{
 "cells": [
  {
   "cell_type": "code",
   "execution_count": 22,
   "metadata": {
    "collapsed": true
   },
   "outputs": [],
   "source": [
    "import sqlite3\n",
    "import numpy as np\n",
    "import pandas as pd\n",
    "from datetime import datetime\n",
    "import matplotlib.pyplot as plt\n",
    "from pyMagnetar import Magnetar\n",
    "\n",
    "from numba import jit\n",
    "\n",
    "%matplotlib inline"
   ]
  },
  {
   "cell_type": "markdown",
   "metadata": {},
   "source": [
    "## Setting up the SQLite"
   ]
  },
  {
   "cell_type": "code",
   "execution_count": 23,
   "metadata": {
    "collapsed": true
   },
   "outputs": [],
   "source": [
    "conn = sqlite3.connect('SLSN.db', detect_types=sqlite3.PARSE_DECLTYPES|sqlite3.PARSE_COLNAMES)\n",
    "cur = conn.cursor()"
   ]
  },
  {
   "cell_type": "code",
   "execution_count": 24,
   "metadata": {
    "collapsed": true
   },
   "outputs": [],
   "source": [
    "# query = \"\"\"\n",
    "# DROP TABLE IF EXISTS four_ops\n",
    "# \"\"\"\n",
    "# cur.execute(query)\n",
    "# conn.commit()"
   ]
  },
  {
   "cell_type": "code",
   "execution_count": 25,
   "metadata": {
    "collapsed": true
   },
   "outputs": [],
   "source": [
    "query = \"\"\"\n",
    "CREATE TABLE IF NOT EXISTS four_ops (\n",
    "    RUN_ID INT,\n",
    "    T_M REAL,\n",
    "    B REAL,\n",
    "    P REAL,\n",
    "    p0 REAL,\n",
    "    t0 REAL,\n",
    "    M_400_peak REAL,\n",
    "    M_520_peak REAL,\n",
    "    M_400_p30 REAL,\n",
    "    M_520_p30 REAL,\n",
    "    dM_400_p30 REAL,\n",
    "    dM_520_p30 REAL,\n",
    "    C_peak REAL,\n",
    "    C_p30 REAL,\n",
    "    in_A BOOL,\n",
    "    in_B BOOL,\n",
    "    in_C BOOL,\n",
    "    in_D BOOL,\n",
    "    pass BOOL\n",
    ")\n",
    "\"\"\"\n",
    "cur.execute(query)\n",
    "conn.commit()\n",
    "\n",
    "insert_query = \"\"\"\n",
    "INSERT INTO four_ops (\n",
    "    RUN_ID, \n",
    "    T_M, B, P, p0, t0,\n",
    "    M_400_peak, M_520_peak, M_400_p30, M_520_p30,\n",
    "    dM_400_p30, dM_520_p30, C_peak, C_p30,\n",
    "    in_A, in_B, in_C, in_D,\n",
    "    pass\n",
    ") VALUES ( \n",
    "    {},\n",
    "    {}, {}, {}, {}, {},\n",
    "    {}, {}, {}, {},\n",
    "    {}, {}, {}, {},\n",
    "    {}, {}, {}, {},\n",
    "    {}\n",
    ")\n",
    "\"\"\""
   ]
  },
  {
   "cell_type": "markdown",
   "metadata": {},
   "source": [
    "## Setting up 4OPS conditions"
   ]
  },
  {
   "cell_type": "code",
   "execution_count": 26,
   "metadata": {
    "collapsed": true
   },
   "outputs": [],
   "source": [
    "# p = {\"A\": [-22.62, 0.75, 0.32], \"B\": [-22.02, 1.14, 0.29], \"C\": [-0.30, 0.16, 0.14], \"D\": [-0.22, 0.35, 0.08]}\n",
    "# xl = {\"A\": [0, 3.0], \"B\": [-0.5, 1.5], \"C\": [0, 3.0], \"D\": [-0.5, 1.5]}\n",
    "# yl = {\"A\": [-23, -20.0], \"B\": [-23, -20.0], \"C\": [-0.6, 0.5], \"D\": [-0.6, 0.5]}\n",
    "\n",
    "p = {\"A\": [-21.62, 0.75, 0.62], \"B\": [-21.02, 1.14, 0.59], \"C\": [-0.30, 0.16, 0.14], \"D\": [-0.22, 0.35, 0.08]}\n",
    "xl = {\"A\": [0, 3.0], \"B\": [-0.5, 1.5], \"C\": [0, 3.0], \"D\": [-0.5, 1.5]}\n",
    "yl = {\"A\": [-23, -19.0], \"B\": [-23, -19.0], \"C\": [-1.0, 0.5], \"D\": [-1.0, 0.5]}"
   ]
  },
  {
   "cell_type": "code",
   "execution_count": 27,
   "metadata": {
    "collapsed": true
   },
   "outputs": [],
   "source": [
    "@jit\n",
    "def line(x, p):\n",
    "    return p[0] + p[1] * x\n",
    "\n",
    "@jit \n",
    "def check(x, y, panel):\n",
    "    if not (x >= xl[panel][0] and x < xl[panel][1]):\n",
    "        return False\n",
    "    \n",
    "    if not (y >= yl[panel][0] and y < yl[panel][1]):\n",
    "        return False\n",
    "    \n",
    "    if np.abs(y - line(x, p[panel])) > 3.0*p[panel][2]:\n",
    "        return False\n",
    "\n",
    "    return True"
   ]
  },
  {
   "cell_type": "markdown",
   "metadata": {},
   "source": [
    "## Setting up the Magnetar Model"
   ]
  },
  {
   "cell_type": "code",
   "execution_count": 28,
   "metadata": {
    "collapsed": true
   },
   "outputs": [],
   "source": [
    "m = Magnetar(b\"filters\")\n",
    "t = np.arange(1, 200, 1.0)\n",
    "\n",
    "zp400 = 20.39\n",
    "zp520 = 20.96"
   ]
  },
  {
   "cell_type": "code",
   "execution_count": 29,
   "metadata": {},
   "outputs": [],
   "source": [
    "def sim(T, B, P, t0, run):\n",
    "    # Set up the magnetar for given params\n",
    "    m.setup(T, B, P, t0, 0.0)\n",
    "\n",
    "    # calculate LC for 400nm band\n",
    "    flux400 = m.flux(t, b\"B400\")\n",
    "    mag400 = -2.5 * np.log10(flux400) - zp400\n",
    "    p0 = np.argmax(flux400)\n",
    "\n",
    "    if p0 > 150:\n",
    "        return False\n",
    "\n",
    "    # calculate LC for 520nm band\n",
    "    flux520 = m.flux(t, b\"B520\")\n",
    "    mag520 = -2.5 * np.log10(flux520) - zp520\n",
    "\n",
    "    if np.isnan(flux400[p0]) or np.isnan(flux520[p0]) or np.isnan(flux400[p0+30]) or np.isnan(flux520[p0+30]):\n",
    "        return False\n",
    "\n",
    "    # 4OPS params\n",
    "    M_400_peak = mag400[p0]\n",
    "    M_520_peak = mag520[p0]\n",
    "    M_400_p30 = mag400[p0 + 30]\n",
    "    M_520_p30 = mag520[p0 + 30]\n",
    "    dM_400_p30 = M_400_p30 - M_400_peak\n",
    "    dM_520_p30 = M_520_p30 - M_520_peak\n",
    "    C_peak = M_400_peak - M_520_peak\n",
    "    C_p30 = M_400_p30 - M_520_p30\n",
    "\n",
    "    # 4OPS checks\n",
    "    check_A = check(dM_400_p30, M_400_peak, \"A\")\n",
    "    check_B = check(C_p30, M_400_peak, \"B\")\n",
    "    check_C = check(dM_400_p30, C_peak, \"C\")\n",
    "    check_D = check(C_p30, C_peak, \"D\")\n",
    "\n",
    "    check_all = int((check_A & check_D) | (check_B & check_C))\n",
    "    insert = insert_query.format(run,\n",
    "                                 T, B, P, p0, t0,\n",
    "                                 M_400_peak, M_520_peak, M_400_p30, M_520_p30,\n",
    "                                 dM_400_p30, dM_520_p30, C_peak, C_p30,\n",
    "                                 int(check_A), int(check_B), int(check_C), int(check_D),\n",
    "                                 check_all\n",
    "                                 )\n",
    "    cur.execute(insert)\n",
    "    conn.commit()\n",
    "    \n",
    "    return check_all"
   ]
  },
  {
   "cell_type": "code",
   "execution_count": 30,
   "metadata": {},
   "outputs": [],
   "source": [
    "# for T in np.arange(10.0, 150.0, 5.0):\n",
    "#     print(T, '-', datetime.now()) \n",
    "#     for B in np.arange(0.1, 20, 0.1):\n",
    "#         for P in np.arange(0.1, 10, 0.1):\n",
    "#             for t0 in np.arange(0.0, 20.0, 5.0):\n",
    "#                 sim(T, B, P, t0, 7)"
   ]
  },
  {
   "cell_type": "code",
   "execution_count": 31,
   "metadata": {},
   "outputs": [],
   "source": [
    "# query = \"\"\"\n",
    "# SELECT * FROM four_ops WHERE run_id=4 AND pass=1\n",
    "# \"\"\"\n",
    "# cur.execute(query)\n",
    "# df = pd.DataFrame(cur.fetchall(), columns=np.array(cur.description)[:,0])"
   ]
  },
  {
   "cell_type": "code",
   "execution_count": 32,
   "metadata": {},
   "outputs": [],
   "source": [
    "# for index, row in df.iterrows():\n",
    "#     sim(row['T_M'], row['B'], row['P'], 15.0, 7)"
   ]
  },
  {
   "cell_type": "code",
   "execution_count": 33,
   "metadata": {},
   "outputs": [
    {
     "name": "stdout",
     "output_type": "stream",
     "text": [
      "0 :  2018-02-27 22:00:31.901050\n"
     ]
    }
   ],
   "source": [
    "count = 0\n",
    "bPrint = True\n",
    "while count < 100:\n",
    "    T = np.random.random() * 150.0 + 10.0\n",
    "    B = np.random.random() * 20.0 + 0.01\n",
    "    P = np.random.random() * 10.0 + 0.01\n",
    "    \n",
    "    if count % 1000 == 0 and bPrint == True:\n",
    "        print(count, ': ', datetime.now())\n",
    "        bPrint = False\n",
    "    \n",
    "    if sim(T, B, P, 0.0, 99):\n",
    "        bPrint = True\n",
    "        count += 1"
   ]
  },
  {
   "cell_type": "code",
   "execution_count": 21,
   "metadata": {
    "collapsed": true
   },
   "outputs": [],
   "source": [
    "conn.close()"
   ]
  },
  {
   "cell_type": "code",
   "execution_count": null,
   "metadata": {
    "collapsed": true
   },
   "outputs": [],
   "source": []
  }
 ],
 "metadata": {
  "kernelspec": {
   "display_name": "Python [default]",
   "language": "python",
   "name": "python3"
  },
  "language_info": {
   "codemirror_mode": {
    "name": "ipython",
    "version": 3
   },
   "file_extension": ".py",
   "mimetype": "text/x-python",
   "name": "python",
   "nbconvert_exporter": "python",
   "pygments_lexer": "ipython3",
   "version": "3.5.4"
  }
 },
 "nbformat": 4,
 "nbformat_minor": 2
}
