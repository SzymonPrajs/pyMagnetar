{
 "cells": [
  {
   "cell_type": "code",
   "execution_count": 1,
   "metadata": {
    "collapsed": true
   },
   "outputs": [],
   "source": [
    "import sqlite3\n",
    "import numpy as np\n",
    "import pandas as pd\n",
    "from datetime import datetime\n",
    "import matplotlib.pyplot as plt\n",
    "from pyMagnetar import Magnetar\n",
    "\n",
    "from numba import jit\n",
    "\n",
    "%matplotlib inline"
   ]
  },
  {
   "cell_type": "markdown",
   "metadata": {},
   "source": [
    "## Setting up the SQLite"
   ]
  },
  {
   "cell_type": "code",
   "execution_count": 19,
   "metadata": {
    "collapsed": true
   },
   "outputs": [],
   "source": [
    "conn = sqlite3.connect('SLSN.db', detect_types=sqlite3.PARSE_DECLTYPES|sqlite3.PARSE_COLNAMES)\n",
    "cur = conn.cursor()"
   ]
  },
  {
   "cell_type": "code",
   "execution_count": 3,
   "metadata": {
    "collapsed": true
   },
   "outputs": [],
   "source": [
    "# query = \"\"\"\n",
    "# DROP TABLE IF EXISTS four_ops\n",
    "# \"\"\"\n",
    "# cur.execute(query)\n",
    "# conn.commit()"
   ]
  },
  {
   "cell_type": "code",
   "execution_count": 4,
   "metadata": {
    "collapsed": true
   },
   "outputs": [],
   "source": [
    "query = \"\"\"\n",
    "CREATE TABLE IF NOT EXISTS four_ops (\n",
    "    RUN_ID INT,\n",
    "    T_M REAL,\n",
    "    B REAL,\n",
    "    P REAL,\n",
    "    p0 REAL,\n",
    "    t0 REAL,\n",
    "    M_400_peak REAL,\n",
    "    M_520_peak REAL,\n",
    "    M_400_p30 REAL,\n",
    "    M_520_p30 REAL,\n",
    "    dM_400_p30 REAL,\n",
    "    dM_520_p30 REAL,\n",
    "    C_peak REAL,\n",
    "    C_p30 REAL,\n",
    "    in_A BOOL,\n",
    "    in_B BOOL,\n",
    "    in_C BOOL,\n",
    "    in_D BOOL,\n",
    "    pass BOOL\n",
    ")\n",
    "\"\"\"\n",
    "cur.execute(query)\n",
    "conn.commit()\n",
    "\n",
    "insert_query = \"\"\"\n",
    "INSERT INTO four_ops (\n",
    "    RUN_ID, \n",
    "    T_M, B, P, p0, t0,\n",
    "    M_400_peak, M_520_peak, M_400_p30, M_520_p30,\n",
    "    dM_400_p30, dM_520_p30, C_peak, C_p30,\n",
    "    in_A, in_B, in_C, in_D,\n",
    "    pass\n",
    ") VALUES ( \n",
    "    {},\n",
    "    {}, {}, {}, {}, {},\n",
    "    {}, {}, {}, {},\n",
    "    {}, {}, {}, {},\n",
    "    {}, {}, {}, {},\n",
    "    {}\n",
    ")\n",
    "\"\"\""
   ]
  },
  {
   "cell_type": "markdown",
   "metadata": {},
   "source": [
    "## Setting up 4OPS conditions"
   ]
  },
  {
   "cell_type": "code",
   "execution_count": 5,
   "metadata": {
    "collapsed": true
   },
   "outputs": [],
   "source": [
    "# p = {\"A\": [-22.62, 0.75, 0.32], \"B\": [-22.02, 1.14, 0.29], \"C\": [-0.30, 0.16, 0.14], \"D\": [-0.22, 0.35, 0.08]}\n",
    "# xl = {\"A\": [0, 3.0], \"B\": [-0.5, 1.5], \"C\": [0, 3.0], \"D\": [-0.5, 1.5]}\n",
    "# yl = {\"A\": [-23, -20.0], \"B\": [-23, -20.0], \"C\": [-0.6, 0.5], \"D\": [-0.6, 0.5]}\n",
    "\n",
    "p = {\"A\": [-21.62, 0.75, 0.62], \"B\": [-21.02, 1.14, 0.59], \"C\": [-0.30, 0.16, 0.14], \"D\": [-0.22, 0.35, 0.08]}\n",
    "xl = {\"A\": [0, 3.0], \"B\": [-0.5, 1.5], \"C\": [0, 3.0], \"D\": [-0.5, 1.5]}\n",
    "yl = {\"A\": [-23, -19.0], \"B\": [-23, -19.0], \"C\": [-1.0, 0.5], \"D\": [-1.0, 0.5]}"
   ]
  },
  {
   "cell_type": "code",
   "execution_count": 6,
   "metadata": {
    "collapsed": true
   },
   "outputs": [],
   "source": [
    "@jit\n",
    "def line(x, p):\n",
    "    return p[0] + p[1] * x\n",
    "\n",
    "@jit \n",
    "def check(x, y, panel):\n",
    "    if not (x >= xl[panel][0] and x < xl[panel][1]):\n",
    "        return False\n",
    "    \n",
    "    if not (y >= yl[panel][0] and y < yl[panel][1]):\n",
    "        return False\n",
    "    \n",
    "    if np.abs(y - line(x, p[panel])) > 3.0*p[panel][2]:\n",
    "        return False\n",
    "\n",
    "    return True"
   ]
  },
  {
   "cell_type": "markdown",
   "metadata": {},
   "source": [
    "## Setting up the Magnetar Model"
   ]
  },
  {
   "cell_type": "code",
   "execution_count": 7,
   "metadata": {
    "collapsed": true
   },
   "outputs": [],
   "source": [
    "m = Magnetar(b\"filters\")\n",
    "t = np.arange(1, 200, 1.0)\n",
    "\n",
    "zp400 = 20.39\n",
    "zp520 = 20.96"
   ]
  },
  {
   "cell_type": "code",
   "execution_count": 14,
   "metadata": {},
   "outputs": [],
   "source": [
    "def sim(T, B, P, t0, run):\n",
    "    # Set up the magnetar for given params\n",
    "    m.setup(T, B, P, t0, 0.0)\n",
    "\n",
    "    # calculate LC for 400nm band\n",
    "    flux400 = m.flux(t, b\"B400\")\n",
    "    mag400 = -2.5 * np.log10(flux400) - zp400\n",
    "    p0 = np.argmax(flux400)\n",
    "\n",
    "    if p0 > 150:\n",
    "        return False\n",
    "\n",
    "    # calculate LC for 520nm band\n",
    "    flux520 = m.flux(t, b\"B520\")\n",
    "    mag520 = -2.5 * np.log10(flux520) - zp520\n",
    "\n",
    "    if np.isnan(flux400[p0]) or np.isnan(flux520[p0]) or np.isnan(flux400[p0+30]) or np.isnan(flux520[p0+30]):\n",
    "        return False\n",
    "\n",
    "    # 4OPS params\n",
    "    M_400_peak = mag400[p0]\n",
    "    M_520_peak = mag520[p0]\n",
    "    M_400_p30 = mag400[p0 + 30]\n",
    "    M_520_p30 = mag520[p0 + 30]\n",
    "    dM_400_p30 = M_400_p30 - M_400_peak\n",
    "    dM_520_p30 = M_520_p30 - M_520_peak\n",
    "    C_peak = M_400_peak - M_520_peak\n",
    "    C_p30 = M_400_p30 - M_520_p30\n",
    "\n",
    "    # 4OPS checks\n",
    "    check_A = check(dM_400_p30, M_400_peak, \"A\")\n",
    "    check_B = check(C_p30, M_400_peak, \"B\")\n",
    "    check_C = check(dM_400_p30, C_peak, \"C\")\n",
    "    check_D = check(C_p30, C_peak, \"D\")\n",
    "\n",
    "    check_all = int((check_A & check_D) | (check_B & check_C))\n",
    "    insert = insert_query.format(run,\n",
    "                                 T, B, P, p0, t0,\n",
    "                                 M_400_peak, M_520_peak, M_400_p30, M_520_p30,\n",
    "                                 dM_400_p30, dM_520_p30, C_peak, C_p30,\n",
    "                                 int(check_A), int(check_B), int(check_C), int(check_D),\n",
    "                                 check_all\n",
    "                                 )\n",
    "    cur.execute(insert)\n",
    "    conn.commit()\n",
    "    \n",
    "    return check_all"
   ]
  },
  {
   "cell_type": "code",
   "execution_count": 10,
   "metadata": {},
   "outputs": [],
   "source": [
    "# for T in np.arange(10.0, 150.0, 5.0):\n",
    "#     print(T, '-', datetime.now()) \n",
    "#     for B in np.arange(0.1, 20, 0.1):\n",
    "#         for P in np.arange(0.1, 10, 0.1):\n",
    "#             for t0 in np.arange(0.0, 20.0, 5.0):\n",
    "#                 sim(T, B, P, t0, 7)"
   ]
  },
  {
   "cell_type": "code",
   "execution_count": 11,
   "metadata": {},
   "outputs": [],
   "source": [
    "# query = \"\"\"\n",
    "# SELECT * FROM four_ops WHERE run_id=4 AND pass=1\n",
    "# \"\"\"\n",
    "# cur.execute(query)\n",
    "# df = pd.DataFrame(cur.fetchall(), columns=np.array(cur.description)[:,0])"
   ]
  },
  {
   "cell_type": "code",
   "execution_count": 12,
   "metadata": {},
   "outputs": [],
   "source": [
    "# for index, row in df.iterrows():\n",
    "#     sim(row['T_M'], row['B'], row['P'], 15.0, 7)"
   ]
  },
  {
   "cell_type": "code",
   "execution_count": 20,
   "metadata": {},
   "outputs": [
    {
     "name": "stdout",
     "output_type": "stream",
     "text": [
      "19000 :  2018-02-26 23:23:33.494873\n",
      "20000 :  2018-02-26 23:24:17.499622\n",
      "21000 :  2018-02-26 23:24:59.260231\n",
      "22000 :  2018-02-26 23:25:43.526430\n",
      "23000 :  2018-02-26 23:26:25.576975\n",
      "24000 :  2018-02-26 23:27:06.550724\n",
      "25000 :  2018-02-26 23:27:49.737658\n",
      "26000 :  2018-02-26 23:28:32.583455\n",
      "27000 :  2018-02-26 23:29:15.635996\n",
      "28000 :  2018-02-26 23:29:59.610846\n",
      "29000 :  2018-02-26 23:30:42.445260\n",
      "30000 :  2018-02-26 23:31:26.351714\n",
      "31000 :  2018-02-26 23:32:08.632766\n",
      "32000 :  2018-02-26 23:32:51.176488\n",
      "33000 :  2018-02-26 23:33:34.131484\n",
      "34000 :  2018-02-26 23:34:14.501628\n",
      "35000 :  2018-02-26 23:34:58.377537\n",
      "36000 :  2018-02-26 23:35:40.281369\n",
      "37000 :  2018-02-26 23:36:23.270474\n",
      "38000 :  2018-02-26 23:37:05.592777\n",
      "39000 :  2018-02-26 23:37:49.405375\n",
      "40000 :  2018-02-26 23:38:31.055405\n",
      "41000 :  2018-02-26 23:39:12.466577\n",
      "42000 :  2018-02-26 23:39:54.763268\n",
      "43000 :  2018-02-26 23:40:38.454501\n",
      "44000 :  2018-02-26 23:41:20.862209\n",
      "45000 :  2018-02-26 23:42:05.573677\n",
      "46000 :  2018-02-26 23:42:48.782128\n",
      "47000 :  2018-02-26 23:43:30.455950\n",
      "48000 :  2018-02-26 23:44:14.538361\n",
      "49000 :  2018-02-26 23:44:56.726897\n",
      "50000 :  2018-02-26 23:45:38.935524\n",
      "51000 :  2018-02-26 23:46:22.046690\n",
      "52000 :  2018-02-26 23:47:05.487923\n",
      "53000 :  2018-02-26 23:47:49.890333\n",
      "54000 :  2018-02-26 23:48:32.025008\n",
      "55000 :  2018-02-26 23:49:15.943825\n",
      "56000 :  2018-02-26 23:49:57.500119\n",
      "57000 :  2018-02-26 23:50:40.659592\n",
      "58000 :  2018-02-26 23:51:19.280534\n",
      "59000 :  2018-02-26 23:52:02.890080\n",
      "60000 :  2018-02-26 23:52:45.385080\n",
      "61000 :  2018-02-26 23:53:29.413365\n",
      "62000 :  2018-02-26 23:54:13.484222\n",
      "63000 :  2018-02-26 23:54:55.219583\n",
      "64000 :  2018-02-26 23:55:36.938258\n",
      "65000 :  2018-02-26 23:56:33.747838\n",
      "66000 :  2018-02-26 23:57:18.311256\n",
      "67000 :  2018-02-26 23:58:18.892164\n",
      "68000 :  2018-02-26 23:59:07.206451\n",
      "69000 :  2018-02-26 23:59:57.546793\n",
      "70000 :  2018-02-27 00:00:42.574051\n",
      "71000 :  2018-02-27 00:01:28.716845\n",
      "72000 :  2018-02-27 00:02:13.315716\n",
      "73000 :  2018-02-27 00:03:11.416916\n",
      "74000 :  2018-02-27 00:03:58.541821\n",
      "75000 :  2018-02-27 00:04:53.038276\n",
      "76000 :  2018-02-27 00:05:46.509817\n",
      "77000 :  2018-02-27 00:06:38.503090\n",
      "78000 :  2018-02-27 00:07:39.893052\n",
      "79000 :  2018-02-27 00:08:30.700965\n",
      "80000 :  2018-02-27 00:09:19.004054\n",
      "81000 :  2018-02-27 00:10:10.469747\n",
      "82000 :  2018-02-27 00:10:57.422959\n",
      "83000 :  2018-02-27 00:11:43.208262\n",
      "84000 :  2018-02-27 00:12:33.356724\n",
      "85000 :  2018-02-27 00:13:28.868758\n",
      "86000 :  2018-02-27 00:14:16.249809\n",
      "87000 :  2018-02-27 00:15:03.936226\n",
      "88000 :  2018-02-27 00:15:59.677701\n",
      "89000 :  2018-02-27 00:17:01.806150\n",
      "90000 :  2018-02-27 00:17:47.089837\n",
      "91000 :  2018-02-27 00:18:36.097279\n",
      "92000 :  2018-02-27 00:19:20.373569\n",
      "93000 :  2018-02-27 00:20:08.192345\n",
      "94000 :  2018-02-27 00:20:50.825800\n",
      "95000 :  2018-02-27 00:21:32.131210\n",
      "96000 :  2018-02-27 00:22:16.451614\n",
      "97000 :  2018-02-27 00:22:58.426333\n",
      "98000 :  2018-02-27 00:23:41.457612\n",
      "99000 :  2018-02-27 00:24:23.808955\n"
     ]
    }
   ],
   "source": [
    "count = 0\n",
    "bPrint = True\n",
    "while count < 100000:\n",
    "    T = np.random.random() * 150.0 + 10.0\n",
    "    B = np.random.random() * 20.0 + 0.01\n",
    "    P = np.random.random() * 10.0 + 0.01\n",
    "    \n",
    "    if count % 1000 == 0 and bPrint == True:\n",
    "        print(count, ': ', datetime.now())\n",
    "        bPrint = False\n",
    "    \n",
    "    if sim(T, B, P, 0.0, 7):\n",
    "        bPrint = True\n",
    "        count += 1"
   ]
  },
  {
   "cell_type": "code",
   "execution_count": 21,
   "metadata": {
    "collapsed": true
   },
   "outputs": [],
   "source": [
    "conn.close()"
   ]
  },
  {
   "cell_type": "code",
   "execution_count": null,
   "metadata": {
    "collapsed": true
   },
   "outputs": [],
   "source": []
  }
 ],
 "metadata": {
  "kernelspec": {
   "display_name": "Python [default]",
   "language": "python",
   "name": "python3"
  },
  "language_info": {
   "codemirror_mode": {
    "name": "ipython",
    "version": 3
   },
   "file_extension": ".py",
   "mimetype": "text/x-python",
   "name": "python",
   "nbconvert_exporter": "python",
   "pygments_lexer": "ipython3",
   "version": "3.5.4"
  }
 },
 "nbformat": 4,
 "nbformat_minor": 2
}
